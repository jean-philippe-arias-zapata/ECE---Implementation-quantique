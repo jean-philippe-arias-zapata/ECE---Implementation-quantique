{
 "cells": [
  {
   "cell_type": "markdown",
   "metadata": {},
   "source": [
    "# Quelques méthodes moyen-niveau\n",
    "\n",
    "## Introduction \n",
    "\n",
    "Lors des précédentes séances, nous avons vu comment :\n",
    "\n",
    "- construire et mesurer un circuit quantique ;\n",
    "- implémenter une méthode permettant de rajouter une porte quantique à un circuit ;\n",
    "- implémenter la transformée de Fourier quantique pour un nombre donné de qubits.\n",
    "\n",
    "Tout ceci nous sera utile dans ce Jupyter Notebook. Ainsi, dans le cadre de séance, nous verrons :\n",
    "\n",
    "- comment implémenter la transformée de Fourier quantique inverse ;\n",
    "- comment implémenter une estimation de phase.\n",
    "\n",
    "A la fin du cours, vous devrez téléverser sur le Moodle votre notebook que vous aurez pris le soin de renommer sous la forme *09-11-2020 Nom Prénom*.\n",
    "\n",
    "### Nom et prénom\n",
    "\n",
    "\n",
    "Commençons par inscrire votre nom et prénom en tant qu'objet string nom_prenom. Nous utiliserons comme convention :\n",
    "\n",
    "- Un _ séparera le nom et le prénom.\n",
    "\n",
    "Ainsi :\n",
    "\n",
    "- Pour Jean Philippe Arias Zapata (le tiret est une longue histoire...), nom_prenom = 'Arias Zapata_Jean Philippe ; \n",
    "- Pour Jean-Pierre Pernault, nom_prenom = 'Pernault_Jean-Pierre'."
   ]
  },
  {
   "cell_type": "code",
   "execution_count": null,
   "metadata": {},
   "outputs": [],
   "source": [
    "nom_prenom = "
   ]
  },
  {
   "cell_type": "markdown",
   "metadata": {},
   "source": [
    "## Transformée de Fourier quantique inverse\n",
    "\n",
    "Lors de la précédente séance, nous avions appris à implémenter la transformée de Fourier quantique sur deux, trois et quatre qubits. De plus, en bonus, il y avait un exercice pour généraliser l'application de notre méthode *QFT* pour les registres quantiques de n'importe quelle taille.\n",
    "\n",
    "Dans cette partie, nous tenterons d'implémenter l'opération inverse à la méthode *QFT* que nous nommerons *inverse_QFT*. Nous décomposerons cet exercice en plusieurs étapes :\n",
    "\n",
    "- nous commencerons par voir (ou revoir pour certains) la méthode *QFT* qui permet de généraliser la transformée de Fourier quantique pour n'importe quel registre quantique ;\n",
    "- puis nous chercherons les portes inverses aux portes qui composent la méthode *QFT* ;\n",
    "- enfin nous implémenterons *inverse_QFT* en tant qu'inverse de la méthode *QFT* ;\n",
    "- finalement nous testerons la méthode *inverse_QFT* nouvellement implémentée grâce au circuit quantique de Bell.\n",
    "\n",
    "### Lecture de la méthode *QFT*\n",
    "\n",
    "La méthode *QFT* comme proposée précédemment nécessite trois autres méthodes :\n",
    "\n",
    "- la méthode *porte_SWAP* ;\n",
    "- la méthode *do_swaps* ;\n",
    "- la méthode *R*.\n",
    "\n",
    "La méthode *porte_SWAP* sert, on se rappelle, à échanger les états de deux qubits. La voici :"
   ]
  },
  {
   "cell_type": "code",
   "execution_count": null,
   "metadata": {},
   "outputs": [],
   "source": [
    "from qiskit.circuit import Qubit\n",
    "\n",
    "def porte_SWAP(circuit, qubits):\n",
    "    \n",
    "    if type(circuit) == QuantumCircuit:\n",
    "        \n",
    "        if len(qubits) == 2:\n",
    "            \n",
    "            if type(qubits[0]) == Qubit and type(qubits[1]) == Qubit:\n",
    "                circuit.cx(qubits[0], qubits[1])\n",
    "                circuit.cx(qubits[1], qubits[0])    \n",
    "                circuit.cx(qubits[0], qubits[1])\n",
    "            \n",
    "            elif type(qubits[0]) == int and type(qubits[1]) == int:\n",
    "                q = circuit.qubits\n",
    "                circuit.cx(q[qubits[0]], q[qubits[1]])\n",
    "                circuit.cx(q[qubits[1]], q[qubits[0]])    \n",
    "                circuit.cx(q[qubits[0]], q[qubits[1]])\n",
    "                \n",
    "    return circuit"
   ]
  },
  {
   "cell_type": "markdown",
   "metadata": {},
   "source": [
    "La méthode *do_swaps* va employer la méthode *porte_SWAP* pour échanger deux par deux les états des qubits d'un registre au complet telle que :\n",
    "\n",
    "- l'état du premier qubit soit échangé avec celui du dernier qubit ;\n",
    "- l'état du second qubit soit échangé avec celui de l'avant-dernier qubit ;\n",
    "- etc. ;\n",
    "\n",
    "et telle que si le nombre de qubits est impair, l'état du qubit central soit inchangé.\n",
    "\n",
    "Ceci permettra de rester dans la convention *LSBF* même après action de la méthode *QFT* :"
   ]
  },
  {
   "cell_type": "code",
   "execution_count": null,
   "metadata": {},
   "outputs": [],
   "source": [
    "def do_swaps(circuit, registre):\n",
    "    for i in range(len(registre) // 2) :\n",
    "        circuit = porte_SWAP(circuit, [registre[i], registre[len(registre) - 1 - i]])\n",
    "    return circuit"
   ]
  },
  {
   "cell_type": "markdown",
   "metadata": {},
   "source": [
    "Finalement, la méthode *R* était utile pour constater la récurrence qui pouvait apparaître lors de l'implémentation de *QFT* :"
   ]
  },
  {
   "cell_type": "code",
   "execution_count": null,
   "metadata": {},
   "outputs": [],
   "source": [
    "from math import pi\n",
    "\n",
    "def R(k, circuit, qubit_controle, qubit_cible):    \n",
    "    circuit.cu1(pi/2**k, qubit_controle, qubit_cible)\n",
    "    return circuit"
   ]
  },
  {
   "cell_type": "markdown",
   "metadata": {},
   "source": [
    "Cela nous donne enfin la méthode *QFT* avec la variable optionnelle *to_swap* qui permet d'appliquer ou non la méthode *do_swaps* :"
   ]
  },
  {
   "cell_type": "code",
   "execution_count": null,
   "metadata": {},
   "outputs": [],
   "source": [
    "def QFT(circuit, registre, to_swap=True):\n",
    "    \n",
    "    for i in range(len(registre)):\n",
    "        circuit.h(registre[i])\n",
    "        \n",
    "        for distance in range(len(registre) - i - 1):\n",
    "            distance = distance + 1\n",
    "            circuit = R(distance, circuit, registre[i + distance], registre[i])\n",
    "            \n",
    "    if to_swap:\n",
    "        circuit = do_swaps(circuit, registre)\n",
    "            \n",
    "    return circuit"
   ]
  },
  {
   "cell_type": "markdown",
   "metadata": {},
   "source": [
    "### Les portes inverses\n",
    "\n",
    "Pour inverser une méthode composée d'instructions, il s'agit de :\n",
    "\n",
    "- trouver les instructions inverses à celles qui composent la méthode ;\n",
    "- inverser l'ordre des instructions en les ayant remplacé par les instructions inverses.\n",
    "\n",
    "Pour ceux familiers avec l'algèbre linéaire, si nous avons la méthode représentable par une matrice $M = A \\cdot B$, il s'agit de trouver la méthode inverse associée à $M^{-1} = \\left(A \\cdot B\\right)^{-1} = B^{-1} \\cdot A^{-1}.$\n",
    "\n",
    "*Remarque : Une méthode ou une instruction $\\mathcal{K}_1$ est l'inverse d'une autre méthode ou instruction $\\mathcal{K}_2$ si et seulement si les sorties sont identiques aux entrées après l'action consécutive des méthodes $\\mathcal{K}_1$ et $\\mathcal{K}_2$, et ce pour toutes entrées possibles.*\n",
    "\n",
    "Lorsque je dirais *Démontrez que c'est l'inverse de...*, il faut bien sûr comprendre que vous ne pourrez pas tester cette propriété pour toutes entrées possibles (au risque de vous prendre un temps infini...). Utilisez un seul cas qui vous semble parlant.\n",
    "\n",
    "**1) Démontrez que la porte Hadamard est son propre inverse sur le circuit suivant.**"
   ]
  },
  {
   "cell_type": "code",
   "execution_count": null,
   "metadata": {},
   "outputs": [],
   "source": [
    "from qiskit.circuit import QuantumRegister, ClassicalRegister, QuantumCircuit\n",
    "from qiskit import Aer, execute\n",
    "\n",
    "simulator = Aer.get_backend('qasm_simulator')\n",
    "\n",
    "q_test = QuantumRegister(1)\n",
    "c_test = ClassicalRegister(1)\n",
    "circ_test = QuantumCircuit(q_test, c_test)\n",
    "\n",
    "circ_test.x(q_test)\n",
    "\n",
    "#Faites agir les portes ici\n",
    "\n",
    "\n",
    "#N'oubliez pas la mesure !\n",
    "\n",
    "job_test = execute(circ_test, simulator, shots=1000)"
   ]
  },
  {
   "cell_type": "code",
   "execution_count": null,
   "metadata": {},
   "outputs": [],
   "source": [
    "circ_test.draw(output='mpl')"
   ]
  },
  {
   "cell_type": "code",
   "execution_count": null,
   "metadata": {},
   "outputs": [],
   "source": [
    "res_test = job_test.result().get_counts()\n",
    "print(res_test)"
   ]
  },
  {
   "cell_type": "code",
   "execution_count": null,
   "metadata": {},
   "outputs": [],
   "source": [
    "assert res_test['1'] == 1000"
   ]
  },
  {
   "cell_type": "markdown",
   "metadata": {},
   "source": [
    "**2) Démontrez que la méthode** *do_swaps* **est son propre inverse sur le circuit suivant.**"
   ]
  },
  {
   "cell_type": "code",
   "execution_count": null,
   "metadata": {},
   "outputs": [],
   "source": [
    "q_test = QuantumRegister(4)\n",
    "c_test = ClassicalRegister(4)\n",
    "circ_test = QuantumCircuit(q_test, c_test)\n",
    "\n",
    "circ_test.x([q_test[0], q_test[2]])\n",
    "\n",
    "#Faites agir les portes ici\n",
    "\n",
    "\n",
    "#N'oubliez pas la mesure !\n",
    "\n",
    "job_test = execute(circ_test, simulator, shots=1000)"
   ]
  },
  {
   "cell_type": "code",
   "execution_count": null,
   "metadata": {},
   "outputs": [],
   "source": [
    "circ_test.draw(output='mpl')"
   ]
  },
  {
   "cell_type": "code",
   "execution_count": null,
   "metadata": {},
   "outputs": [],
   "source": [
    "res_test = job_test.result().get_counts()\n",
    "print(res_test)"
   ]
  },
  {
   "cell_type": "code",
   "execution_count": null,
   "metadata": {},
   "outputs": [],
   "source": [
    "assert res_test['0101'] == 1000"
   ]
  },
  {
   "cell_type": "markdown",
   "metadata": {},
   "source": [
    "Nous proposons maintenant la méthode suivante *inverse_R* qui sera utile pour l'implémentation de *inverse_QFT* :"
   ]
  },
  {
   "cell_type": "code",
   "execution_count": null,
   "metadata": {},
   "outputs": [],
   "source": [
    "def inverse_R(k, circuit, qubit_controle, qubit_cible):\n",
    "    circuit.cu1(-pi/2**k, qubit_controle, qubit_cible)\n",
    "    return circuit"
   ]
  },
  {
   "cell_type": "markdown",
   "metadata": {},
   "source": [
    "**3) Démontrez que la méthode** *inverse_R* **est l'inverse de la méthode** *R* **sur le circuit suivant.**"
   ]
  },
  {
   "cell_type": "code",
   "execution_count": null,
   "metadata": {},
   "outputs": [],
   "source": [
    "q_test = QuantumRegister(2)\n",
    "c_test = ClassicalRegister(2)\n",
    "circ_test = QuantumCircuit(q_test, c_test)\n",
    "\n",
    "circ_test.x(q_test)\n",
    "\n",
    "k = 1\n",
    "\n",
    "#Faites agir les portes ici\n",
    "\n",
    "\n",
    "#N'oubliez pas la mesure !\n",
    "\n",
    "job_test = execute(circ_test, simulator, shots=1000)"
   ]
  },
  {
   "cell_type": "code",
   "execution_count": null,
   "metadata": {},
   "outputs": [],
   "source": [
    "circ_test.draw(output='mpl')"
   ]
  },
  {
   "cell_type": "code",
   "execution_count": null,
   "metadata": {},
   "outputs": [],
   "source": [
    "res_test = job_test.result().get_counts()\n",
    "print(res_test)"
   ]
  },
  {
   "cell_type": "code",
   "execution_count": null,
   "metadata": {},
   "outputs": [],
   "source": [
    "assert res_test['11'] == 1000"
   ]
  },
  {
   "cell_type": "markdown",
   "metadata": {},
   "source": [
    "Je vous partage une dernière astuce qui vous sera utile : normalement vous savez déjà comment vous \"baladez\" avec un indice dans une liste en suivant l'ordre de ces éléments :"
   ]
  },
  {
   "cell_type": "code",
   "execution_count": null,
   "metadata": {},
   "outputs": [],
   "source": [
    "n = 5\n",
    "for i in range(n):\n",
    "    print(i)"
   ]
  },
  {
   "cell_type": "markdown",
   "metadata": {},
   "source": [
    "Vous aurez besoin de le faire en suivant l'ordre exactement inverse des éléments d'une liste :"
   ]
  },
  {
   "cell_type": "code",
   "execution_count": null,
   "metadata": {},
   "outputs": [],
   "source": [
    "for i in range(n):\n",
    "    print(n - i - 1)"
   ]
  },
  {
   "cell_type": "markdown",
   "metadata": {},
   "source": [
    "### Implémentation de *inverse_QFT*\n",
    "\n",
    "Nous sommes maintenant capable d'inverser les éléments qui composent la méthode *QFT*.\n",
    "\n",
    "Pour finalement implémenter *inverse_QFT*, il s'agit maintenant de remplacer les éléments de *QFT* par leur inverse respective tout en faisant attention à inverser leur ordre d'apparition. Autrement dit :"
   ]
  },
  {
   "cell_type": "code",
   "execution_count": null,
   "metadata": {},
   "outputs": [],
   "source": [
    "def dummy():\n",
    "    instruction1\n",
    "    instruction2\n",
    "    instruction3"
   ]
  },
  {
   "cell_type": "markdown",
   "metadata": {},
   "source": [
    "Son inverse est :"
   ]
  },
  {
   "cell_type": "code",
   "execution_count": null,
   "metadata": {},
   "outputs": [],
   "source": [
    "def inverse_dummy():\n",
    "    inverse_instruction3\n",
    "    inverse_instruction2\n",
    "    inverse_instruction1"
   ]
  },
  {
   "cell_type": "markdown",
   "metadata": {},
   "source": [
    "**Implémentez** *inverse_QFT.*"
   ]
  },
  {
   "cell_type": "code",
   "execution_count": null,
   "metadata": {},
   "outputs": [],
   "source": [
    "def inverse_QFT(circuit, registre, to_swap=True):\n",
    "    "
   ]
  },
  {
   "attachments": {
    "circuit-etat-bell.png": {
     "image/png": "[encoded data removed]"
    }
   },
   "cell_type": "markdown",
   "metadata": {},
   "source": [
    "### Vérification de la méthode inverse_QFT\n",
    "\n",
    "Nous allons maintenant vérifier que la méthode *inverse_QFT* nouvellement implémentée soit vraiment la transformée de Fourier quantique inverse. Nous le répétons : il suffit de faire les opérations *QFT* et *inverse_QFT* de suite, et si l'action combinée de ces opérations est une non-action (s'il ne se passe rien), nous aurons bien montrer que *inverse_QFT* est l'inverse de *QFT*.\n",
    "\n",
    "Le circuit de Bell nous permettra de faire ce test.\n",
    "\n",
    "**1) Implémentez le circuit quantique de Bell.**\n",
    "\n",
    "![circuit-etat-bell.png](attachment:circuit-etat-bell.png)"
   ]
  },
  {
   "cell_type": "code",
   "execution_count": null,
   "metadata": {},
   "outputs": [],
   "source": [
    "circ_test =\n",
    "\n",
    "\n",
    "\n",
    "job_test = execute(circ_test, simulator, shots=1000)"
   ]
  },
  {
   "cell_type": "code",
   "execution_count": null,
   "metadata": {},
   "outputs": [],
   "source": [
    "circ_test.draw(output='mpl')"
   ]
  },
  {
   "cell_type": "code",
   "execution_count": null,
   "metadata": {},
   "outputs": [],
   "source": [
    "print(job_test.result().get_counts())"
   ]
  },
  {
   "cell_type": "markdown",
   "metadata": {},
   "source": [
    "**2) Faites de même en ayant rajouté avant mesures la transformée de Fourier quantique et votre méthode implémentée** *inverse_QFT.*"
   ]
  },
  {
   "cell_type": "code",
   "execution_count": null,
   "metadata": {},
   "outputs": [],
   "source": [
    "circ_test = \n",
    "\n",
    "\n",
    "job_test = execute(circ_test, simulator, shots=1000)"
   ]
  },
  {
   "cell_type": "code",
   "execution_count": null,
   "metadata": {},
   "outputs": [],
   "source": [
    "circ_test.draw(output='mpl')"
   ]
  },
  {
   "cell_type": "code",
   "execution_count": null,
   "metadata": {},
   "outputs": [],
   "source": [
    "print(job_test.result().get_counts())"
   ]
  },
  {
   "cell_type": "markdown",
   "metadata": {},
   "source": [
    "Les résultats sont-ils similaires ? Si c'est le cas, vous pouvez continuer dans le Jupyter Notebook."
   ]
  },
  {
   "attachments": {
    "estimation%20de%20phase.PNG": {
     "image/png": "[encoded data removed]"
    }
   },
   "cell_type": "markdown",
   "metadata": {},
   "source": [
    "## Estimation de phase\n",
    "\n",
    "L'estimation de phase est un algorithme quantique très particulier et très utilisé pour les méthodes Monte-Carlo quantiques puisqu'il permet de construire un estimateur d'amplitude (cf. *Quantum Amplitude Amplification and Estimation* de Brassard et al., 2000), l'amplitude pouvant contenir des informations sur un problème donné (la probabilité d'obtenir une mesure donnée correspondant à un phénomène physique, d'ingénierie etc.). \n",
    "\n",
    "\n",
    "Nous pouvons le résumer ainsi : supposons que nous ayons un opérateur quantique $U$ qui soit un oracle, i. e. une boîte noire dont nous ne connaissons rien à part un état propre |$\\psi$> mais sans savoir quelle est sa valeur propre :\n",
    "\n",
    "$$U | \\psi> = e^{i \\phi} | \\psi >.$$\n",
    "\n",
    "L'objectif de cet algorithme est d'obtenir cette valeur propre. En pratique, l'algorithme donnera la valeur $z$ telle que $$\\phi = \\frac{2 \\pi \\, z}{2^n}$$\n",
    "\n",
    "avec $n$ le nombre de qubits.\n",
    "\n",
    "![estimation%20de%20phase.PNG](attachment:estimation%20de%20phase.PNG)\n",
    "\n",
    "Nous constatons qu'il faut diviser les qubits en deux registres :\n",
    "\n",
    "- un premier registre qui sera le seul mesuré ;\n",
    "- un second registre où sera implémenté l'état quantique $| \\psi >$ de même dimension que le premier registre.\n",
    "\n",
    "Nous décomposerons cette partie en trois sous-parties :\n",
    "\n",
    "- un exemple d'application de l'algorithme d'estimation de phase ;\n",
    "- un exercice-bonus avec pour oracle NOT sur un registre de dimension 1 ;\n",
    "- un exercice-bonus sur un registre de dimension 2.\n",
    "\n",
    "\n",
    "### Exemple d'application de l'algorithme d'estimation de phase\n",
    "\n",
    "Commençons par un exemple d'oracle *exemple_oracle* tel que :\n",
    "\n",
    "- il s'applique sur un registre quantique de dimension 1 ;\n",
    "- il dépend d'un paramètre *z* que nous choisirons arbitrairement ne prenant que les valeurs 0 ou 1 ;\n",
    "- l'état |1> en soit un état propre."
   ]
  },
  {
   "cell_type": "code",
   "execution_count": null,
   "metadata": {},
   "outputs": [],
   "source": [
    "def exemple_oracle(z, circuit, registre_dim1):\n",
    "    n = len(registre_dim1)\n",
    "    angle = 2 * pi * z / 2**n\n",
    "    circuit.u1(angle, registre_dim1)\n",
    "    return circuit"
   ]
  },
  {
   "cell_type": "markdown",
   "metadata": {},
   "source": [
    "Du circuit générique présenté ci-dessus, nous constatons que nous avons besoin de contrôler *exemple_oracle*. Faisons-le manuellement :"
   ]
  },
  {
   "cell_type": "code",
   "execution_count": null,
   "metadata": {},
   "outputs": [],
   "source": [
    "def c_exemple_oracle(z, circuit, etat_propre_dim1, registre_mesure_dim1):\n",
    "    n = len(registre_mesure_dim1)\n",
    "    angle = 2 * pi * z / 2**n\n",
    "    circuit.cu1(angle, registre_mesure_dim1, etat_propre_dim1)\n",
    "    return circuit"
   ]
  },
  {
   "cell_type": "markdown",
   "metadata": {},
   "source": [
    "Etant donné que nous resterons sur deux registres quantiques de dimension 1, il n'y aura pas besoin d'utiliser des puissances de l'oracle. Créons maintenant le circuit quantique *exemple_circ* pour l'estimation de phase :"
   ]
  },
  {
   "cell_type": "code",
   "execution_count": null,
   "metadata": {},
   "outputs": [],
   "source": [
    "n = 1\n",
    "registre_mesure = QuantumRegister(n)\n",
    "registre_etat_propre = QuantumRegister(n)\n",
    "clbits = ClassicalRegister(n)\n",
    "\n",
    "exemple_circ = QuantumCircuit(registre_mesure, clbits)\n",
    "exemple_circ.add_register(registre_etat_propre)"
   ]
  },
  {
   "attachments": {
    "exemple.png": {
     "image/png": "[encoded data removed]"
    }
   },
   "cell_type": "markdown",
   "metadata": {},
   "source": [
    "La structure du circuit quantique *exemple_circ* est prête, il s'agit maintenant de faire agir l'estimation de phase. Voici le circuit quantique (attention, qft devrait être remplacé par inverse_qft !) :\n",
    "\n",
    "![exemple.png](attachment:exemple.png)\n",
    "\n",
    "Il faut bien comprendre que le NOT agissant sur le second qubit prépare l'état propre |1> de notre oracle *exemple_oracle*.\n",
    "\n",
    "**1) Préparez l'état propre.**"
   ]
  },
  {
   "cell_type": "code",
   "execution_count": null,
   "metadata": {},
   "outputs": [],
   "source": []
  },
  {
   "cell_type": "markdown",
   "metadata": {},
   "source": [
    "**2) Appliquez maintenant l'algorithme d'estimation de phase.**"
   ]
  },
  {
   "cell_type": "code",
   "execution_count": null,
   "metadata": {},
   "outputs": [],
   "source": [
    "z = 1"
   ]
  },
  {
   "cell_type": "code",
   "execution_count": null,
   "metadata": {},
   "outputs": [],
   "source": []
  },
  {
   "cell_type": "code",
   "execution_count": null,
   "metadata": {},
   "outputs": [],
   "source": [
    "exemple_circ.draw(output='mpl')"
   ]
  },
  {
   "cell_type": "markdown",
   "metadata": {},
   "source": [
    "**3) Vérifiez que lorsque vous prenez z = 0, vous obtenez en résultat 0, et lorsque vous prenez z = 1, vous obtenez 1.**\n",
    "\n",
    "*Remarque : Faites bien attention à réinitialiser le circuit quantique !*"
   ]
  },
  {
   "cell_type": "code",
   "execution_count": null,
   "metadata": {},
   "outputs": [],
   "source": [
    "exemple = execute(exemple_circ, simulator, shots=1000).result().get_counts()\n",
    "print(exemple)"
   ]
  },
  {
   "cell_type": "code",
   "execution_count": null,
   "metadata": {},
   "outputs": [],
   "source": [
    "if z%2 == 0:\n",
    "    assert exemple['0'] == 1000\n",
    "    \n",
    "else :\n",
    "    assert exemple['1'] == 1000"
   ]
  },
  {
   "cell_type": "markdown",
   "metadata": {},
   "source": [
    "Ceci correspond à :\n",
    "\n",
    "- soit obtenir une valeur propre $e^{i 0} = 1$ pour z = 0 ;\n",
    "- soit obtenir une valeur propre $e^{i \\pi} = - 1$ pour z = 1."
   ]
  },
  {
   "cell_type": "markdown",
   "metadata": {},
   "source": [
    "### Exercice-bonus : Oracle NOT\n",
    "\n",
    "Nous choisirons cette fois comme oracle la porte NOT qui bien sûr n'agit que sur des registres quantiques de dimension 1. Nous donnerons comme état propre :\n",
    "\n",
    "$$|-> = H (NOT) |0> = Z H |0>.$$\n",
    "\n",
    "**1) Construisez l'oracle contrôlé** *c_NOT* **de la même manière que précédement :**"
   ]
  },
  {
   "cell_type": "code",
   "execution_count": null,
   "metadata": {},
   "outputs": [],
   "source": [
    "def c_NOT(circuit, etat_propre_dim1, registre_mesure_dim1):\n",
    "    circuit.cx(registre_mesure_dim1, etat_propre_dim1)\n",
    "    return circuit"
   ]
  },
  {
   "cell_type": "markdown",
   "metadata": {},
   "source": [
    "**2) Préparez la structure globale du circuit que nous nommerons** *circ_not :*"
   ]
  },
  {
   "cell_type": "code",
   "execution_count": null,
   "metadata": {},
   "outputs": [],
   "source": []
  },
  {
   "cell_type": "markdown",
   "metadata": {},
   "source": [
    "**3) Préparez l'état propre.**"
   ]
  },
  {
   "cell_type": "code",
   "execution_count": null,
   "metadata": {},
   "outputs": [],
   "source": []
  },
  {
   "cell_type": "markdown",
   "metadata": {},
   "source": [
    "**4) Appliquez maintenant l'algorithme d'estimation de phase.**"
   ]
  },
  {
   "cell_type": "code",
   "execution_count": null,
   "metadata": {},
   "outputs": [],
   "source": []
  },
  {
   "cell_type": "code",
   "execution_count": null,
   "metadata": {},
   "outputs": [],
   "source": [
    "circ_not.draw(output='mpl')"
   ]
  },
  {
   "cell_type": "code",
   "execution_count": null,
   "metadata": {},
   "outputs": [],
   "source": [
    "res_not = execute(circ_not, simulator, shots=1000).result().get_counts()\n",
    "print(res_not)"
   ]
  },
  {
   "cell_type": "code",
   "execution_count": null,
   "metadata": {},
   "outputs": [],
   "source": [
    "assert res_not['1'] == 1000"
   ]
  },
  {
   "cell_type": "markdown",
   "metadata": {},
   "source": [
    "Le fait qu'on obtienne la valeur 1 pour notre état propre revient à dire que nous obtenons la valeur propre $e^{i \\pi} = -1$.\n",
    "\n",
    "### Exercice-bonus\n",
    "\n",
    "Nous allons maintenant nous arrêter sur un oracle *oracle2* qui peut s'appliquer sur un registre quantique de dimension 2, tels que ses états propres sont les états fondamentaux |00>, |10>, |01>, |11> : "
   ]
  },
  {
   "cell_type": "code",
   "execution_count": null,
   "metadata": {},
   "outputs": [],
   "source": [
    "def oracle2(z, circuit, registre_quantique_dim2):\n",
    "    n = len(registre_quantique_dim2)\n",
    "    angle = 2 * pi * z / 2**n\n",
    "    circuit.u1(angle, registre_quantique_dim2[0])\n",
    "    return circuit"
   ]
  },
  {
   "cell_type": "markdown",
   "metadata": {},
   "source": [
    "Cette fois, nous prendrons pour le paramètre $z$ les valeurs entières de 0 à 3.\n",
    "\n",
    "**Construisez l'oracle contrôlée associée** *c_oracle2.*"
   ]
  },
  {
   "cell_type": "code",
   "execution_count": null,
   "metadata": {},
   "outputs": [],
   "source": [
    "def c_oracle2(z, circuit, registre_etat_propre, qubit_controle):\n",
    "    n = len(registre_etat_propre)\n",
    "    angle = 2 * pi * z / 2**n\n",
    "    circuit.cu1(angle, qubit_controle, registre_etat_propre[0])\n",
    "    return circuit"
   ]
  },
  {
   "cell_type": "markdown",
   "metadata": {},
   "source": [
    "**Préparez la structure globale du circuit quantique.**"
   ]
  },
  {
   "cell_type": "code",
   "execution_count": null,
   "metadata": {},
   "outputs": [],
   "source": []
  },
  {
   "cell_type": "markdown",
   "metadata": {},
   "source": [
    "**Préparez l'état propre que vous souhaitez.**"
   ]
  },
  {
   "cell_type": "code",
   "execution_count": null,
   "metadata": {},
   "outputs": [],
   "source": []
  },
  {
   "cell_type": "markdown",
   "metadata": {},
   "source": [
    "**Appliquez maintenant l'estimation de phase.**"
   ]
  },
  {
   "cell_type": "code",
   "execution_count": null,
   "metadata": {},
   "outputs": [],
   "source": [
    "z = 2"
   ]
  },
  {
   "cell_type": "code",
   "execution_count": null,
   "metadata": {},
   "outputs": [],
   "source": []
  },
  {
   "cell_type": "code",
   "execution_count": null,
   "metadata": {},
   "outputs": [],
   "source": [
    "circ.draw(output='mpl')"
   ]
  },
  {
   "cell_type": "code",
   "execution_count": null,
   "metadata": {},
   "outputs": [],
   "source": [
    "resultats1 = execute(circ, simulator, shots=1000).result().get_counts()\n",
    "print(resultats1) #On est dans la convention LSBF !!! Attention !!!!"
   ]
  },
  {
   "cell_type": "markdown",
   "metadata": {},
   "source": [
    "**Amusez-vous à faire varier le paramètre** *z* **puis faites de même avec l'état propre.**\n",
    "\n",
    "*Remarque : une nouvelle fois, n'oubliez pas de réinitialiser le circuit au complet !*"
   ]
  }
 ],
 "metadata": {
  "kernelspec": {
   "display_name": "Python 3",
   "language": "python",
   "name": "python3"
  },
  "language_info": {
   "codemirror_mode": {
    "name": "ipython",
    "version": 3
   },
   "file_extension": ".py",
   "mimetype": "text/x-python",
   "name": "python",
   "nbconvert_exporter": "python",
   "pygments_lexer": "ipython3",
   "version": "3.7.3"
  }
 },
 "nbformat": 4,
 "nbformat_minor": 2
}

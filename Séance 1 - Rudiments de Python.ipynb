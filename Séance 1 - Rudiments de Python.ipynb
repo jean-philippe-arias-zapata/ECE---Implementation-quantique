{
 "cells": [
  {
   "cell_type": "markdown",
   "metadata": {},
   "source": [
    "# Séance 1 : Rudiments de Python et d'informatique quantique\n",
    "\n",
    "\n",
    "## Introduction\n",
    "\n",
    "\n",
    "Dans ce notebook, nous nous exercerons à utiliser des outils classiques qui nous seront utiles pour étudier en toute tranquillité la bibliothèque quantique Qiskit. Il s'agit d'avoir des méthodes utiles pour les prochaines séances. *Les réponses sont donc attendues sous forme de méthodes et non directement écrites à la main (sauf exception).*\n",
    "\n",
    "Ceux-ci sont :\n",
    "\n",
    "- La conversion de nombres de base 2 à base 10, et vice versa ;\n",
    "- Les dictionnaires ;\n",
    "- Les histogrammes.\n",
    "\n",
    "A la fin du cours, vous devrez téléverser sur le Moodle votre notebook que vous aurez pris le soin de renommer sous la forme *11/10/2021 Nom Prénom*.\n",
    "\n",
    "\n",
    "### Nom et prénom\n",
    "\n",
    "\n",
    "Commençons par inscrire votre nom et prénom en tant qu'objet string nom_prenom. Nous utiliserons comme convention :\n",
    "\n",
    "- Un _ séparera le nom et le prénom.\n",
    "\n",
    "Ainsi :\n",
    "\n",
    "- Pour Jean Philippe Arias Zapata (le tiret est une longue histoire...), nom_prenom = 'Arias Zapata_Jean Philippe ; \n",
    "- Pour Jean-Pierre Pernault, nom_prenom = 'Pernault_Jean-Pierre'."
   ]
  },
  {
   "cell_type": "code",
   "execution_count": 2,
   "metadata": {},
   "outputs": [],
   "source": [
    "nom_prenom = \"Thiam_Ndeye-Aïssatou\""
   ]
  },
  {
   "cell_type": "markdown",
   "metadata": {},
   "source": [
    "**N'oubliez surtout pas d'exécuter cette variable ou vous serez noté absent et n'aurez pas de note !**\n",
    "\n",
    "## Exercices\n",
    "\n",
    "\n",
    "### Conversion : base 2 et base 10\n",
    "\n",
    "\n",
    "Le plus important à retenir dans cette partie est que la bibliothèque Qiskit utilise la *convention du bit de poids faible en premier* que nous abrégerons par LSBF (Least significant bit first). L'autre convention est appelée *convention du bit de poids fort en premier*, abrégé MSBF (Most significant bit first).\n",
    "\n",
    "Lors de cet exercice, il faudra être capable de :\n",
    "\n",
    "- Convertir un objet dans la convention LSBF en objet en base 10, et vice versa ;\n",
    "- Convertir un objet dans la convention LSBF vers un objet dans la convention MSBF, et vice versa.\n",
    "\n",
    "\n",
    "**1) Convertissez les objets en base 10 suivants en objets sous la convention LSBF** "
   ]
  },
  {
   "cell_type": "code",
   "execution_count": null,
   "metadata": {},
   "outputs": [],
   "source": [
    "a = 1\n",
    "b = 13\n",
    "c = [1, 9, 0, 11, 9, 7, 8, 3, 5, 5, 4, 2, 8, 1, 9, 1, 10, 14, 13, 10, 3, 5, 1, 5, 2, 13, 2, 5, 13, 4, 12, 7, 9, 2, 12, 13, 12, 4, 0, 6, 1, 11, 7, 8, 2, 3, 9, 13, 3, 14, 3, 14, 2, 11, 11, 4, 9, 9, 0, 14, 4, 13, 7, 4, 7, 1, 6, 10, 8, 10, 6, 7, 12, 5, 11, 10, 3, 7, 3, 7, 5, 3, 11, 2, 14, 13, 12, 4, 4, 11, 12, 1, 11, 9, 4, 14, 2, 9, 12, 10]\n",
    "\n",
    "def from_10_to_LSBF(number, length):\n",
    "    \n",
    "\n",
    "bin_a = from_10_to_LSBF(a, 1)\n",
    "bin_b = from_10_to_LSBF(b, 4)\n",
    "bin_c = from_10_to_LSBF(c, 4)\n",
    "\n"
   ]
  },
  {
   "cell_type": "code",
   "execution_count": null,
   "metadata": {},
   "outputs": [],
   "source": [
    "assert bin_a == '1'"
   ]
  },
  {
   "cell_type": "code",
   "execution_count": null,
   "metadata": {},
   "outputs": [],
   "source": [
    "assert bin_b == '1011'"
   ]
  },
  {
   "cell_type": "code",
   "execution_count": null,
   "metadata": {},
   "outputs": [],
   "source": [
    "assert bin_c == ['1000', '1001', '0000', '1101', '1001', '1110', '0001', '1100', '1010', '1010', '0010', '0100', '0001', '1000', '1001', '1000', '0101', '0111', '1011', '0101', '1100', '1010', '1000', '1010', '0100', '1011', '0100', '1010', '1011', '0010', '0011', '1110', '1001', '0100', '0011', '1011', '0011', '0010', '0000', '0110', '1000', '1101', '1110', '0001', '0100', '1100', '1001', '1011', '1100', '0111', '1100', '0111', '0100', '1101', '1101', '0010', '1001', '1001', '0000', '0111', '0010', '1011', '1110', '0010', '1110', '1000', '0110', '0101', '0001', '0101', '0110', '1110', '0011', '1010', '1101', '0101', '1100', '1110', '1100', '1110', '1010', '1100', '1101', '0100', '0111', '1011', '0011', '0010', '0010', '1101', '0011', '1000', '1101', '1001', '0010', '0111', '0100', '1001', '0011', '0101']"
   ]
  },
  {
   "cell_type": "markdown",
   "metadata": {},
   "source": [
    "**2) Convertissez les objets sous la convention LSBF suivants en objets en base 10** "
   ]
  },
  {
   "cell_type": "code",
   "execution_count": null,
   "metadata": {},
   "outputs": [],
   "source": [
    "bin_d = '110'\n",
    "bin_e = '0101'\n",
    "bin_f = ['111', '011', '1001', '1011', '11', '0011', '111', '0101', '0001', '111', '1001', '01', '0001', '011', '0011', '011', '111', '0111', '0111', '0001', '001', '01', '0', '1101', '0011', '1011', '11', '0101', '1101', '111', '0111', '0101', '1101', '1', '1101', '0101', '1101', '1011', '0101', '1', '1001', '101', '1', '0101', '1', '111', '1011', '011', '101', '1001', '1101', '1', '0011', '0111', '011', '1001', '011', '0', '011', '101', '0101', '0011', '1', '1', '0011', '0011', '0001', '1', '1', '1011', '0111', '111', '11', '0111', '0011', '11', '0001', '1', '11', '0011', '0', '011', '0101', '0011', '0011', '111', '111', '011', '0', '01', '011', '0011', '0111', '111', '0101', '0101', '1001', '01', '0001', '01']\n",
    "\n",
    "\n",
    "def from_LSBF_to_10(binary):\n",
    "    \n",
    "\n",
    "d = from_LSBF_to_10(bin_d)\n",
    "e = from_LSBF_to_10(bin_e)\n",
    "f = from_LSBF_to_10(bin_f)"
   ]
  },
  {
   "cell_type": "code",
   "execution_count": null,
   "metadata": {},
   "outputs": [],
   "source": [
    "assert d == 3"
   ]
  },
  {
   "cell_type": "code",
   "execution_count": null,
   "metadata": {},
   "outputs": [],
   "source": [
    "assert e == 10"
   ]
  },
  {
   "cell_type": "code",
   "execution_count": null,
   "metadata": {},
   "outputs": [],
   "source": [
    "assert f ==  [7, 6, 9, 13, 3, 12, 7, 10, 8, 7, 9, 2, 8, 6, 12, 6, 7, 14, 14, 8, 4, 2, 0, 11, 12, 13, 3, 10, 11, 7, 14, 10, 11, 1, 11, 10, 11, 13, 10, 1, 9, 5, 1, 10, 1, 7, 13, 6, 5, 9, 11, 1, 12, 14, 6, 9, 6, 0, 6, 5, 10, 12, 1, 1, 12, 12, 8, 1, 1, 13, 14, 7, 3, 14, 12, 3, 8, 1, 3, 12, 0, 6, 10, 12, 12, 7, 7, 6, 0, 2, 6, 12, 14, 7, 10, 10, 9, 2, 8, 2]"
   ]
  },
  {
   "cell_type": "markdown",
   "metadata": {},
   "source": [
    "**3) Convertissez les objets sous la convention LSBF suivants en objets sous la convention MSBF**"
   ]
  },
  {
   "cell_type": "code",
   "execution_count": null,
   "metadata": {},
   "outputs": [],
   "source": [
    "LSBF_a = '0'\n",
    "LSBF_b = '101'\n",
    "LSBF_c = bin_f\n",
    "\n",
    "def from_LSBF_to_MSBF(binary):\n",
    "    \n",
    "\n",
    "MSBF_a = from_MSBF_to_LSBF(LSBF_a)\n",
    "MSBF_b = from_MSBF_to_LSBF(LSBF_b)\n",
    "MSBF_c = from_MSBF_to_LSBF(LSBF_c)"
   ]
  },
  {
   "cell_type": "code",
   "execution_count": null,
   "metadata": {},
   "outputs": [],
   "source": [
    "assert MSBF_a == '0'"
   ]
  },
  {
   "cell_type": "code",
   "execution_count": null,
   "metadata": {},
   "outputs": [],
   "source": [
    "assert MSBF_b == '101'"
   ]
  },
  {
   "cell_type": "code",
   "execution_count": null,
   "metadata": {},
   "outputs": [],
   "source": [
    "assert MSBF_c == ['111', '110', '1001', '1101', '11', '1100', '111', '1010', '1000', '111', '1001', '10', '1000', '110', '1100', '110', '111', '1110', '1110', '1000', '100', '10', '0', '1011', '1100', '1101', '11', '1010', '1011', '111', '1110', '1010', '1011', '1', '1011', '1010', '1011', '1101', '1010', '1', '1001', '101', '1', '1010', '1', '111', '1101', '110', '101', '1001', '1011', '1', '1100', '1110', '110', '1001', '110', '0', '110', '101', '1010', '1100', '1', '1', '1100', '1100', '1000', '1', '1', '1101', '1110', '111', '11', '1110', '1100', '11', '1000', '1', '11', '1100', '0', '110', '1010', '1100', '1100', '111', '111', '110', '0', '10', '110', '1100', '1110', '111', '1010', '1010', '1001', '10', '1000', '10']"
   ]
  },
  {
   "cell_type": "markdown",
   "metadata": {},
   "source": [
    "**4) Convertissez les objets sous la convention MSBF suivants en objets sous la convention LSBF**"
   ]
  },
  {
   "cell_type": "code",
   "execution_count": null,
   "metadata": {},
   "outputs": [],
   "source": [
    "MSBF_d = '10'\n",
    "MSBF_e = '01011'\n",
    "MSBF_f = ['10001', '11010', '00010', '10010', '10010', '10011', '11101', '10000', '10000', '10011', '10111', '10100', '11011', '00110', '10001', '11001', '11001', '11011', '01001', '00001', '11000', '11010', '10101', '10001', '01111', '10000', '01101', '00011', '11010', '10101', '01111', '01111', '00011', '11010', '00110', '11101', '11010', '11100', '10010', '10101', '11100', '00011', '10011', '10101', '01001', '10110', '10000', '00001', '11000', '00100', '10010', '11001', '10101', '11010', '01110', '01000', '11000', '00000', '10000', '11101', '11011', '01110', '01110', '10000', '10010', '10111', '11100', '00111', '00101', '00111', '01001', '00100', '10110', '01000', '00111', '10110', '10100', '01001', '11010', '01111', '10001', '10100', '10100', '11010', '01111', '00111', '11100', '10010', '10110', '01001', '00011', '01000', '00001', '10110', '00010', '10010', '10011', '10011', '01010', '01000']\n",
    "\n",
    "def from_MSBF_to_LSBF(binary):\n",
    "    \n",
    "\n",
    "LSBF_d = from_LSBF_to_MSBF(MSBF_d)\n",
    "LSBF_e = from_LSBF_to_MSBF(MSBF_e)\n",
    "LSBF_f = from_LSBF_to_MSBF(MSBF_f)"
   ]
  },
  {
   "cell_type": "code",
   "execution_count": null,
   "metadata": {},
   "outputs": [],
   "source": [
    "assert LSBF_d == '01'"
   ]
  },
  {
   "cell_type": "code",
   "execution_count": null,
   "metadata": {},
   "outputs": [],
   "source": [
    "assert LSBF_e == '11010'"
   ]
  },
  {
   "cell_type": "code",
   "execution_count": null,
   "metadata": {},
   "outputs": [],
   "source": [
    "assert LSBF_f == ['10001', '01011', '01000', '01001', '01001', '11001', '10111', '00001', '00001', '11001', '11101', '00101', '11011', '01100', '10001', '10011', '10011', '11011', '10010', '10000', '00011', '01011', '10101', '10001', '11110', '00001', '10110', '11000', '01011', '10101', '11110', '11110', '11000', '01011', '01100', '10111', '01011', '00111', '01001', '10101', '00111', '11000', '11001', '10101', '10010', '01101', '00001', '10000', '00011', '00100', '01001', '10011', '10101', '01011', '01110', '00010', '00011', '00000', '00001', '10111', '11011', '01110', '01110', '00001', '01001', '11101', '00111', '11100', '10100', '11100', '10010', '00100', '01101', '00010', '11100', '01101', '00101', '10010', '01011', '11110', '10001', '00101', '00101', '01011', '11110', '11100', '00111', '01001', '01101', '10010', '11000', '00010', '10000', '01101', '01000', '01001', '11001', '11001', '01010', '00010']"
   ]
  },
  {
   "cell_type": "markdown",
   "metadata": {},
   "source": [
    "### Dictionnaires\n",
    "\n",
    "Les dictionnaires sont des objets Python qui sont très utilisés dans Qiskit. Ils permettront notamment de conserver les résultats de mesure. Nous devons donc savoir les manier pour être à l'aise avec Qiskit.\n",
    "\n",
    "Durant cet exercice, il faudra être capable de :\n",
    "\n",
    "- Créer un dictionnaire *ex nihilo* ou à partir d'une liste ;\n",
    "- Réorganiser les éléments d'un dictionnaire ;\n",
    "- Récupérer des éléments d'un dictionnaire ;\n",
    "- Modifier les clés d'un dictionnaire.\n",
    "\n",
    "**1) Créez un dictionnaire** *tarte* **de deux éléments ayant respectivement les clés (exception) :**\n",
    "\n",
    "-  **La clé 'allumette_g' pour la valeur 200 ;**\n",
    "-  **La clé 'crème_cl' pour la valeur 20 ;**\n",
    "-  **La clé 'cumin_cuillèrecafé' pour la valeur 0.5 ;**\n",
    "-  **La clé 'oeuf' pour la valeur 3 ;**\n",
    "-  **La clé 'pâte_brisée' pour la valeur 1 ;**\n",
    "-  **La clé 'poireau' pour la valeur 2 ;**\n",
    "-  **La clé 'poivre_pincée' pour la valeur1.**"
   ]
  },
  {
   "cell_type": "code",
   "execution_count": null,
   "metadata": {},
   "outputs": [],
   "source": [
    "tarte = "
   ]
  },
  {
   "cell_type": "code",
   "execution_count": null,
   "metadata": {},
   "outputs": [],
   "source": [
    "assert tarte['poireau'] == 2\n",
    "assert tarte['allumette_g'] == 200\n",
    "assert tarte['crème_cl'] == 20\n",
    "assert tarte['oeuf'] == 3\n",
    "assert tarte['pâte_brisée'] == 1\n",
    "assert tarte['poivre_pincée'] == 1\n",
    "assert tarte['cumin_cuillèrecafé'] == 0.5"
   ]
  },
  {
   "cell_type": "markdown",
   "metadata": {},
   "source": [
    "**2) Créez un dictionnaire à partir de la liste suivante où les valeurs correspondent aux variables de la liste**"
   ]
  },
  {
   "cell_type": "code",
   "execution_count": null,
   "metadata": {},
   "outputs": [],
   "source": [
    "position = ['avion', 'voiture', 'train']\n",
    "\n",
    "def values_of_dic(valeurs):\n",
    "    \n",
    "\n",
    "dic1 = values_of_dic(position)"
   ]
  },
  {
   "cell_type": "code",
   "execution_count": null,
   "metadata": {},
   "outputs": [],
   "source": [
    "assert dic1[0] == 'avion'\n",
    "assert dic1[1] == 'voiture'\n",
    "assert dic1[2] == 'train'"
   ]
  },
  {
   "cell_type": "markdown",
   "metadata": {},
   "source": [
    "**3) Créez un dictionnaire à partir de la liste précédente où les clés du dictionnaire correspondent aux variables de la liste**"
   ]
  },
  {
   "cell_type": "code",
   "execution_count": null,
   "metadata": {},
   "outputs": [],
   "source": [
    "def keys_of_dic(valeurs):\n",
    "    \n",
    "\n",
    "dic2 = keys_of_dic(position)"
   ]
  },
  {
   "cell_type": "code",
   "execution_count": null,
   "metadata": {},
   "outputs": [],
   "source": [
    "assert dic2['avion'] == 0\n",
    "assert dic2['voiture'] == 1\n",
    "assert dic2['train'] == 2"
   ]
  },
  {
   "cell_type": "markdown",
   "metadata": {},
   "source": [
    "**4) Créez un sous-dictionnaire à partir de** *tarte* **tel qu'il n'y ait que :** \n",
    "\n",
    "-  **La clé 'cumin_cuillèrecafé' pour la valeur 0.5 ;**\n",
    "-  **La clé 'poivre_pincée' pour la valeur1.**"
   ]
  },
  {
   "cell_type": "code",
   "execution_count": null,
   "metadata": {},
   "outputs": [],
   "source": [
    "cles = [\"cumin_cuillèrecafé\", \"poivre_pincée\"]\n",
    "\n",
    "def sous_dic(dic, keys):\n",
    "\n",
    "epices = sous_dic(dic, cles)"
   ]
  },
  {
   "cell_type": "code",
   "execution_count": null,
   "metadata": {},
   "outputs": [],
   "source": [
    "assert len(epices) == 2\n",
    "assert epices['cumin_cuillèrecafé'] == 0.5\n",
    "assert epices['poivre_pincée'] == 1"
   ]
  },
  {
   "cell_type": "markdown",
   "metadata": {},
   "source": [
    "**5) Réorganisez le dictionnaire pour que les valeurs soient organisées par ordre croissant des clés**"
   ]
  },
  {
   "cell_type": "code",
   "execution_count": null,
   "metadata": {},
   "outputs": [],
   "source": [
    "dic = {i:[(j - 23) % 100 for j in range(100) if ((j - 23) % 100) % 7 == 0][i] for i in range(15)}\n",
    "\n",
    "def dic_reorganise(dico):\n",
    "    \n",
    "\n",
    "sorted_dic = dic_reorganise(dic)"
   ]
  },
  {
   "cell_type": "code",
   "execution_count": null,
   "metadata": {},
   "outputs": [],
   "source": [
    "for i in range(len(sorted_dic) - 1):\n",
    "    assert sorted_dic[i] < sorted_dic[i + 1]"
   ]
  },
  {
   "cell_type": "markdown",
   "metadata": {},
   "source": [
    "**6) Récupérez le sous-dictionnaire de** *dic* **tel que les éléments ne soient que des multiples de 3**"
   ]
  },
  {
   "cell_type": "code",
   "execution_count": null,
   "metadata": {},
   "outputs": [],
   "source": [
    "def multiple_3(dico):\n",
    "    \n",
    "\n",
    "multiple = multiple_3(sorted_dic)"
   ]
  },
  {
   "cell_type": "code",
   "execution_count": null,
   "metadata": {},
   "outputs": [],
   "source": [
    "for i in range(len(multiple)):\n",
    "    assert multiple[i] % 3 == 0"
   ]
  },
  {
   "cell_type": "markdown",
   "metadata": {},
   "source": [
    "### Histogrammes\n",
    "\n",
    "\n",
    "Les histogrammes sont aussi importants pour la bibliothèque Qiskit : c'est ainsi que sont représentés les mesures.\n",
    "\n",
    "Lors de cet exercice, il faudra être capable de :\n",
    "\n",
    "- Construire une distribution statistique qui suit une loi normale (ou loi gaussienne) ;\n",
    "- Représenter cette distribution statistique dans un histogramme.\n",
    "\n",
    "**1) Créez une distribution statistique qui suit une loi normale (exception) :**\n",
    "\n",
    "- **Centrée en mu égal à 4 ;**\n",
    "- **Avec un écart-type sigma égal à 1 ;**\n",
    "- **Avec une taille d'échantillon N égal à 10000.**"
   ]
  },
  {
   "cell_type": "code",
   "execution_count": null,
   "metadata": {},
   "outputs": [],
   "source": [
    "import numpy as np\n",
    "\n",
    "mu = 4\n",
    "sigma = 1\n",
    "N = 10000\n",
    "\n",
    "dist = "
   ]
  },
  {
   "cell_type": "code",
   "execution_count": null,
   "metadata": {},
   "outputs": [],
   "source": [
    "from math import isclose\n",
    "import numpy as np\n",
    "\n",
    "assert mu == 4 and sigma == 1 and N == 10000\n",
    "assert isclose(np.mean(dist), 4, rel_tol=0.1) and isclose(np.std(dist), 1, rel_tol=0.1) and len(dist) == 10000"
   ]
  },
  {
   "cell_type": "markdown",
   "metadata": {},
   "source": [
    "**2) Représentez cette distribution statistique (exception) dans un histogramme avec** :\n",
    "\n",
    "- **Un nombre de bins égal à 100 ;**\n",
    "- **L'axe des abscisses \"Votre nom et prénom\" ;**\n",
    "- **L'axe des ordonnées \"Distribution statistique\". (exception)**"
   ]
  },
  {
   "cell_type": "code",
   "execution_count": null,
   "metadata": {},
   "outputs": [],
   "source": [
    "import matplotlib.pyplot as plt\n",
    "\n"
   ]
  },
  {
   "cell_type": "markdown",
   "metadata": {},
   "source": [
    "### Exercice final\n",
    "\n",
    "Nous allons créer un histogramme que nous pourrions récupérer après simulation de mesure sur Qiskit. Celui-ci représentera un état de Bell qui est un état intriqué.\n",
    "\n",
    "Ainsi, les mesures dans la base 2 (sous les conventions LSBF et MSBF) ne peuvent donner que '00' ou '11', et ce avec une fréquence quasiment égale - nous prenons en compte un effet statistique. Autrement dit, dans la base 10, nous devons mesurer uniquement les valeurs 0 ou 3."
   ]
  },
  {
   "cell_type": "code",
   "execution_count": null,
   "metadata": {},
   "outputs": [],
   "source": [
    "import matplotlib.pyplot as plt\n",
    "\n",
    "np.random.seed(30)\n",
    "\n",
    "shots = 8096 # Nb de mesures -- correspond au nb max de mesures en une seule fois par un ordinateur quantique d'IBM"
   ]
  },
  {
   "cell_type": "markdown",
   "metadata": {},
   "source": [
    "**1) Créez la distribution statistique modélisant les mesures (exception)**"
   ]
  },
  {
   "cell_type": "code",
   "execution_count": null,
   "metadata": {},
   "outputs": [],
   "source": [
    "mesures = "
   ]
  },
  {
   "cell_type": "markdown",
   "metadata": {},
   "source": [
    "**2) Créez un dictionnaire tel que les valeurs** *dic_mesures[chaîne binaire]* **corresponde au nombre d'apparition de la chaîne binaire dans les mesures (exception)**"
   ]
  },
  {
   "cell_type": "code",
   "execution_count": null,
   "metadata": {},
   "outputs": [],
   "source": [
    "dic_mesures = "
   ]
  },
  {
   "cell_type": "code",
   "execution_count": null,
   "metadata": {},
   "outputs": [],
   "source": [
    "from math import isclose\n",
    "assert isclose(dic_mesures['00'], 4048, rel_tol=0.2) and isclose(dic_mesures['11'], 4048, rel_tol=0.2)\n",
    "assert dic_mesures['00'] + dic_mesures['11'] == shots"
   ]
  },
  {
   "cell_type": "markdown",
   "metadata": {},
   "source": [
    "**3) Créez un dictionnaire contenant les valeurs non-nulles de** *dic_mesures*"
   ]
  },
  {
   "cell_type": "code",
   "execution_count": null,
   "metadata": {},
   "outputs": [],
   "source": [
    "qiskit_mesures = "
   ]
  },
  {
   "cell_type": "code",
   "execution_count": null,
   "metadata": {},
   "outputs": [],
   "source": [
    "assert isclose(qiskit_mesures['00'], 4048, rel_tol=0.2) and isclose(qiskit_mesures['11'], 4048, rel_tol=0.2)\n",
    "assert '01' not in qiskit_mesures.keys() and '10' not in qiskit_mesures.keys()"
   ]
  },
  {
   "cell_type": "markdown",
   "metadata": {},
   "source": [
    "Le dictionnaire final que vous obtiendrez est typiquement le genre d'objets que vous récupérerez à la fin des mesures sur Qiskit et qui vous permettra de construire un histogramme pour visualiser les résultats.\n",
    "\n",
    "Nous ferons autrement ici puisqu'il est bien sûr possible d'utiliser directement la liste de mesures.\n",
    "\n",
    "**4) Créez et affichez un histogramme des mesures en ayant étiquetté (exception) :**\n",
    "\n",
    "- **Un nombre de bins égal à 20 ;**\n",
    "- **L'axe des abscisses \"Etat mesuré -- Votre nom et prénom\" ;**\n",
    "- **L'axe des ordonnées \"Nombre de mesures\" (exception).**"
   ]
  }
 ],
 "metadata": {
  "kernelspec": {
   "display_name": "Python 3",
   "language": "python",
   "name": "python3"
  },
  "language_info": {
   "codemirror_mode": {
    "name": "ipython",
    "version": 3
   },
   "file_extension": ".py",
   "mimetype": "text/x-python",
   "name": "python",
   "nbconvert_exporter": "python",
   "pygments_lexer": "ipython3",
   "version": "3.7.3"
  }
 },
 "nbformat": 4,
 "nbformat_minor": 2
}
